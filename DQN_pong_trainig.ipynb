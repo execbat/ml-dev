{
 "cells": [
  {
   "cell_type": "markdown",
   "id": "9c9c7f71-9a14-40d5-886e-49bf245fa473",
   "metadata": {},
   "source": [
    "# Example of training DQN network for play games\n",
    "## Applied an approach of stack of images for inference for DQN\n",
    "## Combined several methods for generation of Q-target\n"
   ]
  },
  {
   "cell_type": "markdown",
   "id": "7f8b46bb-1dee-46e2-9d8b-a37d9bfa94c0",
   "metadata": {},
   "source": [
    "### Import of libraries"
   ]
  },
  {
   "cell_type": "code",
   "execution_count": 1,
   "id": "4766b084-78ab-43d4-9ce7-8c564799fac7",
   "metadata": {},
   "outputs": [
    {
     "name": "stdout",
     "output_type": "stream",
     "text": [
      "pygame 2.5.2 (SDL 2.28.2, Python 3.9.18)\n",
      "Hello from the pygame community. https://www.pygame.org/contribute.html\n"
     ]
    },
    {
     "name": "stderr",
     "output_type": "stream",
     "text": [
      "2024-02-06 17:32:32.241199: E tensorflow/compiler/xla/stream_executor/cuda/cuda_dnn.cc:9342] Unable to register cuDNN factory: Attempting to register factory for plugin cuDNN when one has already been registered\n",
      "2024-02-06 17:32:32.241220: E tensorflow/compiler/xla/stream_executor/cuda/cuda_fft.cc:609] Unable to register cuFFT factory: Attempting to register factory for plugin cuFFT when one has already been registered\n",
      "2024-02-06 17:32:32.241226: E tensorflow/compiler/xla/stream_executor/cuda/cuda_blas.cc:1518] Unable to register cuBLAS factory: Attempting to register factory for plugin cuBLAS when one has already been registered\n",
      "2024-02-06 17:32:32.245370: I tensorflow/core/platform/cpu_feature_guard.cc:182] This TensorFlow binary is optimized to use available CPU instructions in performance-critical operations.\n",
      "To enable the following instructions: SSE4.1 SSE4.2 AVX AVX2 FMA, in other operations, rebuild TensorFlow with the appropriate compiler flags.\n"
     ]
    }
   ],
   "source": [
    "import numpy as np\n",
    "import matplotlib.pyplot as plt\n",
    "%matplotlib inline\n",
    "import pygame\n",
    "import gym\n",
    "from IPython import display\n",
    "import tensorflow as tf\n",
    "import copy\n",
    "from gym.wrappers.record_video import RecordVideo\n",
    "import random\n",
    "import os\n",
    "import shutil"
   ]
  },
  {
   "cell_type": "markdown",
   "id": "eb4c145a-57f8-487d-b076-22ce4a409ef5",
   "metadata": {},
   "source": [
    "### Make the game environment.\n",
    "### Overview of State shape, Actions and their meanings"
   ]
  },
  {
   "cell_type": "code",
   "execution_count": 2,
   "id": "a0fbf5d3-a020-499a-bb28-e16a7e7b5633",
   "metadata": {},
   "outputs": [
    {
     "name": "stdout",
     "output_type": "stream",
     "text": [
      "States shape: (210, 160)\n",
      "Actions: 6\n",
      "Actions: ['NOOP', 'FIRE', 'RIGHT', 'LEFT', 'RIGHTFIRE', 'LEFTFIRE']\n"
     ]
    },
    {
     "name": "stderr",
     "output_type": "stream",
     "text": [
      "A.L.E: Arcade Learning Environment (version 0.8.1+53f58b7)\n",
      "[Powered by Stella]\n",
      "/home/evgenii/anaconda3/envs/tf_gpu/lib/python3.9/site-packages/gym/utils/passive_env_checker.py:31: UserWarning: \u001b[33mWARN: A Box observation space has an unconventional shape (neither an image, nor a 1D vector). We recommend flattening the observation to have only a 1D vector or use a custom policy to properly process the data. Actual observation shape: (210, 160)\u001b[0m\n",
      "  logger.warn(\n"
     ]
    }
   ],
   "source": [
    "env = gym.make('Pong-v4', render_mode=\"rgb_array\", obs_type=\"grayscale\")\n",
    "\n",
    "STATE_SHAPE = env.observation_space.shape\n",
    "NUM_ACTIONS = env.action_space.n\n",
    "ACTION_MEANING = env.unwrapped.get_action_meanings()\n",
    "\n",
    "print('States shape: {}'.format(STATE_SHAPE))\n",
    "print('Actions: {}'.format(NUM_ACTIONS))\n",
    "print('Actions: {}'.format(ACTION_MEANING))"
   ]
  },
  {
   "cell_type": "markdown",
   "id": "8ae97e66-9903-4844-bce2-36f42ce36e7a",
   "metadata": {},
   "source": [
    "### Preprocessing of State image"
   ]
  },
  {
   "cell_type": "code",
   "execution_count": 3,
   "id": "23c3fc2a-976f-4909-9b28-08c80b26e643",
   "metadata": {},
   "outputs": [
    {
     "name": "stdout",
     "output_type": "stream",
     "text": [
      "(160, 160)\n",
      "type <class 'numpy.ndarray'>\n"
     ]
    },
    {
     "name": "stderr",
     "output_type": "stream",
     "text": [
      "/home/evgenii/anaconda3/envs/tf_gpu/lib/python3.9/site-packages/gym/utils/passive_env_checker.py:233: DeprecationWarning: `np.bool8` is a deprecated alias for `np.bool_`.  (Deprecated NumPy 1.24)\n",
      "  if not isinstance(terminated, (bool, np.bool8)):\n"
     ]
    },
    {
     "data": {
      "text/plain": [
       "<matplotlib.image.AxesImage at 0x7fb93be2a8b0>"
      ]
     },
     "execution_count": 3,
     "metadata": {},
     "output_type": "execute_result"
    },
    {
     "data": {
      "image/png": "[encoded data removed]",
      "text/plain": [
       "<Figure size 640x480 with 1 Axes>"
      ]
     },
     "metadata": {},
     "output_type": "display_data"
    }
   ],
   "source": [
    "def state_preprocess(s):\n",
    "    s = s[34: -16, : ] / 255  # ETALON  s = s[34: -16, :] / 255\n",
    "    s = s.astype('float32')\n",
    "    s = s.round()    \n",
    "    return s\n",
    "\n",
    "\n",
    "s = env.reset()[0] # RESET ENVIRONMENT\n",
    "for _ in range(21):    \n",
    "    a = env.action_space.sample()\n",
    "    s, r, terminated, truncated, info = env.step(a) # make a STEP\n",
    "\n",
    "s = state_preprocess(s)\n",
    "print(s.shape)\n",
    "print('type', type(s))\n",
    "plt.imshow(s)\n"
   ]
  },
  {
   "cell_type": "markdown",
   "id": "2c929c97-077b-4169-8c90-58c1c6e3e453",
   "metadata": {},
   "source": [
    "### Help function to show recorded game"
   ]
  },
  {
   "cell_type": "code",
   "execution_count": 4,
   "id": "0ab9bf47-41ee-4143-bcdc-ee5dd52dfcbb",
   "metadata": {},
   "outputs": [],
   "source": [
    "def show_video():\n",
    "    import glob\n",
    "    import io\n",
    "    import base64\n",
    "    from IPython.display import HTML\n",
    "    from IPython import display as ipythondisplay\n",
    "\n",
    "    mp4list = glob.glob('./video/*.mp4')\n",
    "    if len(mp4list) > 0:\n",
    "        mp4 = mp4list[0]\n",
    "        print(mp4)\n",
    "        video = io.open(mp4, 'r+b').read()\n",
    "        encoded = base64.b64encode(video)\n",
    "        ipythondisplay.display(HTML(data='''<video alt=\"test\" autoplay\n",
    "            loop controls style=\"height: 400px;\">\n",
    "            <source src=\"data:video/mp4;base64,{0}\" type=\"video/mp4\" />\n",
    "            </video>'''.format(encoded.decode('ascii'))))\n",
    "    else:\n",
    "        print(\"Could not find video\")"
   ]
  },
  {
   "cell_type": "markdown",
   "id": "1554ea85-47e7-451b-9368-bc8e782c2694",
   "metadata": {},
   "source": [
    "### Definition of 2 stack classes:\n",
    "Exp_stack():   - The memory object to store all experience. \n",
    "            - Keeps maximal size when updated with new Step data.\n",
    "            - Generates minibatches with several methods\n",
    "            \n",
    "Image_stack(): - Stack of preprocessed images with certain size for inference. \n",
    "            - Keeps maximal size when updated with new Step data.\n",
    "            "
   ]
  },
  {
   "cell_type": "code",
   "execution_count": 5,
   "id": "b48b8045-ca8f-46a2-af4e-f650a161f9c0",
   "metadata": {},
   "outputs": [],
   "source": [
    "# s, a, r, s1, int(s, a, r, s1, int(terminated))\n",
    "class Exp_stack():\n",
    "    def __init__(self, max_size = 10, batch_size = 5, inf_pack_size = 4):\n",
    "        self.max_size = max_size\n",
    "        self.batch_size = batch_size\n",
    "        self.inf_pack_size = inf_pack_size\n",
    "        self.stack = None                    \n",
    "        self.full = False\n",
    "\n",
    "    def add(self, new_row):\n",
    "        # print('called')\n",
    "        if self.stack is None:\n",
    "            self.stack = new_row\n",
    "            \n",
    "        else:\n",
    "            self.stack = np.vstack((self.stack, new_row)) #, axis = 0)\n",
    "\n",
    "\n",
    "        self.keep_max_stack_size() # optimize buffer\n",
    "        self.is_full() # set state\n",
    "\n",
    "    def is_full(self):\n",
    "        \n",
    "        if (self.stack.ndim != 1) and (len(self.stack) >= self.batch_size):\n",
    "            self.full = True\n",
    "        else:\n",
    "            self.full = False\n",
    "\n",
    "    def keep_max_stack_size(self):\n",
    "        if (self.stack.ndim != 1) and self.stack.shape[0] > self.max_size:\n",
    "            self.stack = self.stack[- self.max_size :]\n",
    "\n",
    "\n",
    "    def get_minibatch(self, shuffle = True, reversed = False):\n",
    "        if len(self.stack) < self.batch_size:\n",
    "            return None\n",
    "        # GET MINIBATCH SHUFFLED\n",
    "        row_indexes = np.arange(len(self.stack)) \n",
    "        if shuffle:                   \n",
    "            np.random.shuffle(row_indexes)\n",
    "            \n",
    "        row_indexes = row_indexes[-self.batch_size : ]\n",
    "        if reversed:\n",
    "            return self.stack[row_indexes][:: -1]\n",
    "            \n",
    "        return self.stack[row_indexes]\n",
    "\n",
    "    def reset(self):\n",
    "        self.stack = None\n",
    "\n",
    "        \n",
    "    \n",
    "    def get_minibatch_packed(self, shuffle = False):       \n",
    "        amount_of_variants = self.stack.shape[0] -  self.inf_pack_size + 1\n",
    "        if amount_of_variants > self.batch_size:\n",
    "            amount_of_variants = self.batch_size\n",
    "        \n",
    "        \n",
    "        new_row_size = amount_of_variants #self.batch_size \n",
    "        new_col_size = self.stack.shape[1]\n",
    "        minibatch_pack = np.empty(shape = (new_row_size, new_col_size), dtype = object)\n",
    "\n",
    "        available_indexes = list(range(self.stack.shape[0] -  self.inf_pack_size + 1))\n",
    "        \n",
    "        for i_sample in range(amount_of_variants):\n",
    "            start_ixd = np.random.choice(available_indexes) # take random\n",
    "            available_indexes.remove(start_ixd)             # delete it to avoid doubles\n",
    "            tmp_arr = self.stack[start_ixd : start_ixd + self.inf_pack_size, :]              \n",
    "            \n",
    "            s_tmp = Image_stack(self.inf_pack_size)            \n",
    "            s1_tmp = Image_stack(self.inf_pack_size)\n",
    "            s_tmp.add_array(tmp_arr[:, 0])             \n",
    "            a_tmp = tmp_arr[-1, 1]\n",
    "            r_tmp = tmp_arr[-1, 2]   \n",
    "            s1_tmp.add_array(tmp_arr[:, 3])            \n",
    "            terminated_tmp = tmp_arr[-1, 4]\n",
    "            \n",
    "            minibatch_pack[i_sample] = s_tmp.pack(), a_tmp, r_tmp, s1_tmp.pack(), terminated_tmp\n",
    "            \n",
    "        \n",
    "        if shuffle:\n",
    "            row_indexes = np.arange(len(minibatch_pack)) \n",
    "            np.random.shuffle(row_indexes)\n",
    "            return minibatch_pack[row_indexes]\n",
    "\n",
    "        return minibatch_pack\n",
    "\n",
    "\n",
    "    def get_last_nimibatch_pack(self, reversed = False):\n",
    "        ##########################################################################\n",
    "        raw_data = self.get_minibatch(shuffle = False, reversed = False)\n",
    "\n",
    "        new_row_size = self.batch_size - self.inf_pack_size + 1\n",
    "        new_col_size = raw_data.shape[1]\n",
    "        minibatch_pack = np.empty(shape = (new_row_size, new_col_size), dtype = object)\n",
    "        \n",
    "        for i in range(self.batch_size - self.inf_pack_size + 1):\n",
    "            s = Image_stack(self.inf_pack_size)\n",
    "            \n",
    "            s1 = Image_stack(self.inf_pack_size)\n",
    "            tmp_arr = raw_data[i : i + self.inf_pack_size, :] \n",
    "            \n",
    "            s.add_array(tmp_arr[:, 0]) \n",
    "            a = tmp_arr[-1, 1]\n",
    "            r = r = tmp_arr[-1, 2] # <-- sum for all episode     #r = tmp_arr[-1, 2]   \n",
    "            s1.add_array(tmp_arr[:, 3])\n",
    "            terminated = tmp_arr[-1, 4]\n",
    "            \n",
    "            minibatch_pack[i] = s.pack(), a, r, s1.pack(), terminated\n",
    "        ###########################################################################\n",
    "\n",
    "        if reversed:\n",
    "            return minibatch_pack[::-1]\n",
    "\n",
    "        return minibatch_pack\n",
    "\n",
    "\n",
    "    def get_solid_minibatch_from_any_place(self, reversed = True):              \n",
    "        num_of_packs = self.stack.shape[0] - self.inf_pack_size + 1 # available packs to make\n",
    "        \n",
    "        if num_of_packs >= self.batch_size:\n",
    "            tmp_batch_size = self.batch_size + self.inf_pack_size - 1\n",
    "        else:\n",
    "            tmp_batch_size = num_of_packs + self.inf_pack_size - 1        \n",
    "        \n",
    "        available_indexes = list(range(self.stack.shape[0] - tmp_batch_size + 1)) # list of available indexes        \n",
    "           \n",
    "        new_row_size = tmp_batch_size - self.inf_pack_size + 1 #output size\n",
    "        new_col_size = self.stack.shape[1]\n",
    "        minibatch_pack = np.empty(shape = (new_row_size, new_col_size), dtype = object)        \n",
    "        \n",
    "        start_ixd = np.random.choice(available_indexes) # take random\n",
    "        available_indexes.remove(start_ixd)             # delete it to avoid doubles\n",
    "\n",
    "        for row_num in range(new_row_size):\n",
    "            tmp_arr = self.stack[start_ixd + row_num: start_ixd + row_num + self.inf_pack_size, :]   \n",
    "            s_tmp = Image_stack(self.inf_pack_size)            \n",
    "            s1_tmp = Image_stack(self.inf_pack_size)\n",
    "            s_tmp.add_array(tmp_arr[ : , 0])             \n",
    "            a_tmp = tmp_arr[-1, 1]\n",
    "            r_tmp = tmp_arr[-1, 2]  \n",
    "            s1_tmp.add_array(tmp_arr[ : , 3])            \n",
    "            terminated_tmp = tmp_arr[-1, 4]\n",
    "            \n",
    "            minibatch_pack[row_num] = s_tmp.pack(), a_tmp, r_tmp, s1_tmp.pack(), terminated_tmp\n",
    "            \n",
    "        \n",
    "        if reversed:\n",
    "            return minibatch_pack[::-1]\n",
    "\n",
    "        return minibatch_pack\n",
    "\n",
    "\n",
    "class Image_stack():\n",
    "    def __init__(self, max_size = 4):\n",
    "        self.max_size = max_size        \n",
    "        self.stack = list()\n",
    "        self.full = False\n",
    "\n",
    "    def add(self, new_row):        \n",
    "        self.stack.append(new_row)\n",
    "\n",
    "        self.keep_max_stack_size() # optimize buffer\n",
    "        self.is_full() # set state\n",
    "\n",
    "    def add_array(self, array):\n",
    "        for elem in array:\n",
    "            self.stack.append(elem)\n",
    "            self.keep_max_stack_size() # optimize buffer\n",
    "            self.is_full() # set state\n",
    "\n",
    "    def is_full(self):\n",
    "        if len(self.stack) == self.max_size:\n",
    "            self.full = True\n",
    "        else:\n",
    "            self.full = False\n",
    "\n",
    "    def keep_max_stack_size(self):\n",
    "        \n",
    "        if len(self.stack) > self.max_size:           \n",
    "            self.stack = self.stack[-self.max_size : ]\n",
    "\n",
    "\n",
    "    def pack(self, forward_order = True):  # ORIGINALLY forward_order = True !!!!!!!!!!!!\n",
    "        if self.full:\n",
    "            tmp_list = [image[..., None] for image in self.stack]\n",
    "            if forward_order:\n",
    "                res = np.concatenate(tmp_list, axis = 2, dtype=np.float32)\n",
    "            else:\n",
    "                res = np.concatenate(tmp_list[::-1], axis = 2, dtype=np.float32)\n",
    "                \n",
    "            return res\n",
    "\n",
    "        return None\n",
    "\n",
    "    def reset(self):\n",
    "        self.stack = list()\n",
    "\n"
   ]
  },
  {
   "cell_type": "markdown",
   "id": "62d46f38-4c3f-4d28-95d2-23685fc62852",
   "metadata": {},
   "source": [
    "### Visualization of probability to generate a random action"
   ]
  },
  {
   "cell_type": "code",
   "execution_count": 7,
   "id": "396892fc-6710-48a7-aef9-2ab96508dca2",
   "metadata": {},
   "outputs": [
    {
     "data": {
      "text/plain": [
       "[<matplotlib.lines.Line2D at 0x7f6b8da4dca0>]"
      ]
     },
     "execution_count": 7,
     "metadata": {},
     "output_type": "execute_result"
    },
    {
     "data": {
      "image/png": "[encoded data removed]",
      "text/plain": [
       "<Figure size 640x480 with 1 Axes>"
      ]
     },
     "metadata": {},
     "output_type": "display_data"
    }
   ],
   "source": [
    "story = list()\n",
    "num = 1000\n",
    "for i in range(num):\n",
    "    eps =  1.0 -   (i / num)**(3)\n",
    "    story.append(eps)\n",
    "\n",
    "plt.plot(story)"
   ]
  },
  {
   "cell_type": "markdown",
   "id": "528cfb80-c46f-43f8-b511-6d381dd20ad2",
   "metadata": {},
   "source": [
    "### Define the classes of DQN-network and Bot"
   ]
  },
  {
   "cell_type": "code",
   "execution_count": 7,
   "id": "1d3427b2-11f8-43de-8880-1e6272fc4e85",
   "metadata": {},
   "outputs": [],
   "source": [
    "class DQN():\n",
    "    def __init__(self, frame_size = (160, 160, 4), lr = 0.000025):\n",
    "\n",
    "        self.frame_size = frame_size # inference size\n",
    "        self.lr = lr\n",
    "        self.loss = tf.keras.losses.MeanSquaredError()\n",
    "        self.optimizer = tf.keras.optimizers.SGD(learning_rate = self.lr)\n",
    "        self.model = None\n",
    "\n",
    "\n",
    "\n",
    "    def build_model(self):    \n",
    "        model = tf.keras.Sequential()\n",
    "        model.add(tf.keras.layers.Conv2D(filters=32, kernel_size=(8, 8),     \n",
    "                                         activation='relu', \n",
    "                                         input_shape = self.frame_size,\n",
    "                                         data_format = 'channels_last'   \n",
    "                                        ))                \n",
    "        model.add(tf.keras.layers.Conv2D(filters=64, kernel_size=(5, 5),                                          \n",
    "                                         activation='relu'                                        \n",
    "                                        ))        \n",
    "        model.add(tf.keras.layers.Conv2D(filters=64, kernel_size=(3, 3), \n",
    "                                         activation='relu'\n",
    "                                        ))              \n",
    "        model.add(tf.keras.layers.Flatten())\n",
    "        model.add(tf.keras.layers.Dense(128, activation='relu', kernel_initializer= 'he_uniform'))\n",
    "        model.add(tf.keras.layers.Dense(512, activation='relu', kernel_initializer= 'he_uniform'))\n",
    "        model.add(tf.keras.layers.Dense(NUM_ACTIONS, activation= 'linear', kernel_initializer= 'he_uniform'))\n",
    "        model.compile(loss = self.loss, optimizer = self.optimizer)\n",
    "        self.model =  model\n",
    "\n",
    "    def evalQ_single(self, s):\n",
    "        inp = s[None, ...]\n",
    "        return self.model(inp).numpy()[0]\n",
    "    \n",
    "    def evalQ_batch(self, s):\n",
    "        return self.model(s).numpy()\n",
    "\n",
    "\n",
    "\n",
    "\n",
    "\n",
    "class Bot():\n",
    "    def __init__(self, \n",
    "                 env = env,\n",
    "                 num_episodes = 1000,\n",
    "                 max_steps = 1000, # steps per episode\n",
    "                 frame = Image_stack(4), \n",
    "                 experience_stack = Exp_stack(max_size = 1000, batch_size = 16, inf_pack_size = 4)  , \n",
    "                 dqn = None,\n",
    "                 gamma = 0.99\n",
    "                ):\n",
    "\n",
    "        self.env = env\n",
    "        self.num_episodes = num_episodes\n",
    "        self.max_steps = max_steps\n",
    "        self.frame = frame\n",
    "        self.experience_stack = experience_stack\n",
    "        self.dqn = dqn\n",
    "        self.gamma = gamma\n",
    "\n",
    "        self.current_epizode = 0\n",
    "        self.current_step = 0\n",
    "\n",
    "        self.tmp_q_target = None\n",
    "\n",
    "\n",
    "    def get_eps(self):\n",
    "        return 1.0 - ( self.current_epizode / self.num_episodes)**(3)\n",
    "        \n",
    "\n",
    "    def play_epizode_collect_data(self):\n",
    "\n",
    "        s = self.env.reset()[0] # RESET ENVIRONMENT\n",
    "        s = state_preprocess(s) # make it shape = (160,160,3) and scale values to [0, 1]\n",
    "\n",
    "        totalReward = 0\n",
    "        self.current_step = 0\n",
    "        while self.current_step < self.max_steps:\n",
    "            self.current_step += 1 \n",
    "\n",
    "            #########################################\n",
    "            # GET ACTION \n",
    "            if (not self.frame.full) or (np.random.rand() < self.get_eps()): \n",
    "                a = self.env.action_space.sample()           # get random action\n",
    "                \n",
    "            else:                                            # get action from Q function\n",
    "                s_pack = self.frame.pack()                   # get package of several images\n",
    "                Q_s_sample = self.dqn.evalQ_single(s_pack)   # get vector of probabilities of ACTION\n",
    "                a = np.argmax(Q_s_sample)                    # choose the Action by current policy       \n",
    "                \n",
    "            #########################################\n",
    "\n",
    "            s1, r, terminated, truncated, info = self.env.step(a) # make a STEP\n",
    "            s1 = state_preprocess(s1)\n",
    "\n",
    "            #################################################\n",
    "            # SAVE EXPERIENCE \n",
    "            self.experience_stack.add(np.array([s, a, r, s1, terminated], dtype = object))\n",
    "            #################################################\n",
    "\n",
    "            totalReward += r                                 # increment of REWARD        \n",
    "            s = copy.deepcopy(s1)                            # APPLY NEW VALUE FOR NEXT ITERATION    \n",
    "                                                             \n",
    "            if terminated:                                   # end of episode\n",
    "                break  \n",
    "        \n",
    "        return totalReward\n",
    "\n",
    "    def train_on_collected_data(self, train_cycles = 1000, ironing = False):\n",
    "        for i_cycle in range(train_cycles):\n",
    "                \n",
    "            #################################################\n",
    "            # TRAIN Q FUNCTION on BINIBATCH \n",
    "            if self.experience_stack.full:\n",
    "\n",
    "                if ironing:\n",
    "                    minibatch_pack = self.experience_stack.get_solid_minibatch_from_any_place(reversed = True) # consequent batch from random place of the memory. must be reversed\n",
    "                    s1_of_first_row = minibatch_pack[0, 3]\n",
    "                    Q_s1_of_first_row = self.dqn.evalQ_single(s1_of_first_row)\n",
    "                else:\n",
    "                    minibatch_pack = self.experience_stack.get_minibatch_packed(shuffle = False) # from random places\n",
    "                    s1_batch = np.array([elem for elem in minibatch_pack[:, 3]], dtype=np.float32)\n",
    "                    Q_s1 = self.dqn.evalQ_batch(s1_batch) # calc for batch of S1\n",
    "\n",
    "                \n",
    "                s_batch = np.array([elem for elem in minibatch_pack[:, 0]], dtype=np.float32)\n",
    "\n",
    "                Q_s = self.dqn.evalQ_batch(s_batch)  # calc for batch of S\n",
    "        \n",
    "                # NEW value of Q-function\n",
    "                Q_target = copy.deepcopy(Q_s)\n",
    "                \n",
    "                for row in range(minibatch_pack.shape[0]):                \n",
    "                    if minibatch_pack[row, 4] == True: # if DONE\n",
    "                        # print('DONE')\n",
    "                        Q_target[row, minibatch_pack[row, 1]] = minibatch_pack[row, 2] # Q_target[a] = r\n",
    "                        \n",
    "                    else:\n",
    "                        if ironing:\n",
    "                            if row == 0:\n",
    "                                Q_target[row, minibatch_pack[row, 1]] = minibatch_pack[row, 2] + self.gamma * np.max(Q_s1_of_first_row) # Q_target[a] = r + gamma * np.max(Q_s1)\n",
    "                            else:\n",
    "                                Q_target[row, minibatch_pack[row, 1]] = minibatch_pack[row, 2] + self.gamma * np.max(Q_target[row-1]) #apply [gamma * reward] of reward from previous iteration \n",
    "                            \n",
    "                        else:    \n",
    "                            Q_target[row, minibatch_pack[row, 1]] = minibatch_pack[row, 2] + self.gamma * np.max(Q_s1[row]) # Q_target[a] = r + gamma * np.max(Q_s1)\n",
    "                        \n",
    "                              \n",
    "                self.tmp_q_target = Q_target # just for case\n",
    "                \n",
    "                # Update of Q-function\n",
    "                inp = np.array([elem for elem in minibatch_pack[:, 0]], dtype=np.float32)\n",
    "                self.dqn.model.train_on_batch(inp, Q_target) \n",
    "        \n",
    "  \n",
    "    def play_game(self, play_steps = 1000):\n",
    "        \n",
    "        env_sim = RecordVideo(self.env, './video',  episode_trigger = lambda episode_number: True)\n",
    "        frame = Image_stack(FRAME_STACK_SIZE) # USED FOR EVERY STEP TO GET AN ACTION\n",
    "        \n",
    "        \n",
    "        s = env_sim.reset()[0] # RESET ENVIRONMENT\n",
    "        s = state_preprocess(s) # make it shape = (160,160,3) and scale values to [0, 1]\n",
    "        totalReward = 0\n",
    "        \n",
    "        \n",
    "        for _ in range(play_steps):\n",
    "            frame.add(s) # <-- arr of STATES\n",
    "            \n",
    "            #########################################\n",
    "            # GET ACTION \n",
    "            if (not frame.full): \n",
    "                a = env_sim.action_space.sample()     # get random action               \n",
    "                \n",
    "            else: # get action from Q function\n",
    "                s_pack = frame.pack()             # get package of several images   \n",
    "                Q_s_sample = self.dqn.evalQ_single(s_pack) # get vector of probabilities of ACTION                \n",
    "                a = np.argmax(Q_s_sample)         # choose the Action by current policy                \n",
    "            #########################################\n",
    "            \n",
    "            s1, r, terminated, truncated, info = env_sim.step(a) # make a STEP\n",
    "            s1= state_preprocess(s1)\n",
    "        \n",
    "            s = copy.deepcopy(s1)       \n",
    "            totalReward += r\n",
    "\n",
    "            if terminated:\n",
    "                break\n",
    "        \n",
    "        env_sim.close()     \n",
    "        show_video()\n",
    "        return totalReward\n",
    "\n",
    "    \n",
    "    def big_training(self, train_cycles = 20):       \n",
    "        \n",
    "        reward_history = list()   \n",
    "        self.current_epizode = 0\n",
    "        \n",
    "        for self.current_epizode in range(self.num_episodes):\n",
    "            # print('epizode', self.current_epizode)\n",
    "            round_reward = self.play_epizode_collect_data()\n",
    "            reward_history.append(round_reward)\n",
    "            \n",
    "\n",
    "            # self.train_on_collected_data(train_cycles = train_cycles, ironing = True) # fast teach, but rude\n",
    "           \n",
    "            self.train_on_collected_data(train_cycles = train_cycles, ironing = False) # slow but more precise\n",
    "            \n",
    "            if self.current_epizode % 10 == 0:\n",
    "                display.clear_output(wait=True)\n",
    "                just_play_reward = self.play_game(play_steps = 500)\n",
    "\n",
    "        print('finished')\n",
    "                \n"
   ]
  },
  {
   "cell_type": "markdown",
   "id": "b9e42006-d10c-40d8-a8e6-ca8fcec3eb1b",
   "metadata": {},
   "source": [
    "### Definition of Global parameters\n",
    "### Creation of Global Objects"
   ]
  },
  {
   "cell_type": "code",
   "execution_count": 12,
   "id": "cc9284a7-220e-45da-a675-63b98c6fad5b",
   "metadata": {},
   "outputs": [],
   "source": [
    "NUM_EPISODES = 10000         # NUMBER OF EPISODES TO TRAIN\n",
    "MAX_STEPS = 10000           # MAXUMAL AMOUNT OF STEPS PER EPISODE\n",
    "REWARD_AVERAGE_WINDOW = NUM_EPISODES // 10 # окно для усреднения наград по эпизодам\n",
    "\n",
    "FRAME_STACK_SIZE = 4        # num images in stack for inference\n",
    "FRAME_SIZE = (160, 160, FRAME_STACK_SIZE)\n",
    "\n",
    "EXP_STACK_SIZE = 30000      # MAXIMAL NUMBER OF ELEMENTS IN MEMORY STACK\n",
    "EXP_MINIBATCH_SIZE = 16 #6\n",
    "\n",
    "GAMMA = 0.99                # DISCOUNTING PARAMETER\n",
    "LEARNING_RATE = 0.00025     # 0.00025 \n",
    "###########################################\n",
    "\n",
    "###########################################\n",
    "# CREATE GLOBAL OBJECTS\n",
    "\n",
    "# MEMORY STACK. ACCRUES ALL STEPS DATA. MAKES ZIP several IMAGES of several steps to Tensor \n",
    "experience_stack = Exp_stack(max_size = EXP_STACK_SIZE,  \n",
    "                             batch_size = EXP_MINIBATCH_SIZE,\n",
    "                             inf_pack_size = FRAME_STACK_SIZE) # conneclion of S, A, R, S1, DONE chains\n",
    "\n",
    "# FRAME. Image stack for inference # USED FOR EVERY STEP TO GET AN ACTION\n",
    "frame = Image_stack(FRAME_STACK_SIZE) \n",
    "\n",
    "# CREATE and BUILD DQN model\n",
    "dqn = DQN(frame_size = FRAME_SIZE, lr = LEARNING_RATE) # Deep Q Net object\n",
    "dqn.build_model()\n",
    "\n",
    "# CREATE GAME INVIRONMENT\n",
    "env = gym.make('Pong-v4', render_mode=\"rgb_array\", obs_type=\"grayscale\") # Game environment"
   ]
  },
  {
   "cell_type": "code",
   "execution_count": 13,
   "id": "0d32e2b6-94a3-46d1-a655-fe114f2e1d08",
   "metadata": {},
   "outputs": [],
   "source": [
    "# CREATE BOT \n",
    "bot = Bot(env = env,  \n",
    "             num_episodes = NUM_EPISODES,\n",
    "             max_steps = MAX_STEPS, # steps per episode\n",
    "             frame = frame, experience_stack = experience_stack,\n",
    "             dqn = dqn,\n",
    "             gamma = GAMMA\n",
    "            )\n"
   ]
  },
  {
   "cell_type": "code",
   "execution_count": 11,
   "id": "a142a548-a349-45ed-9dfa-39d4c1c778d9",
   "metadata": {},
   "outputs": [
    {
     "name": "stdout",
     "output_type": "stream",
     "text": [
      "Model: \"sequential\"\n",
      "_________________________________________________________________\n",
      " Layer (type)                Output Shape              Param #   \n",
      "=================================================================\n",
      " conv2d (Conv2D)             (None, 153, 153, 32)      8224      \n",
      "                                                                 \n",
      " conv2d_1 (Conv2D)           (None, 149, 149, 64)      51264     \n",
      "                                                                 \n",
      " conv2d_2 (Conv2D)           (None, 147, 147, 64)      36928     \n",
      "                                                                 \n",
      " flatten (Flatten)           (None, 1382976)           0         \n",
      "                                                                 \n",
      " dense (Dense)               (None, 128)               177021056 \n",
      "                                                                 \n",
      " dense_1 (Dense)             (None, 512)               66048     \n",
      "                                                                 \n",
      " dense_2 (Dense)             (None, 6)                 3078      \n",
      "                                                                 \n",
      "=================================================================\n",
      "Total params: 177186598 (675.91 MB)\n",
      "Trainable params: 177186598 (675.91 MB)\n",
      "Non-trainable params: 0 (0.00 Byte)\n",
      "_________________________________________________________________\n"
     ]
    }
   ],
   "source": [
    "bot.dqn.model.summary()"
   ]
  },
  {
   "cell_type": "markdown",
   "id": "68bf086e-7b4a-443a-af75-2568ae5d69bd",
   "metadata": {},
   "source": [
    "### Train bot on DQN\n",
    "#### Bot saves [S, A, R, S1, DONE] chains into MEMORY stack\n",
    "#### Uses data from MEMORY stack to train Q function\n",
    "#### Periodically plays an EPISODE based on DQN data only (without random actions) and shows recorded video"
   ]
  },
  {
   "cell_type": "code",
   "execution_count": 7,
   "id": "9d165f8d-bc31-45af-84bb-b23a01667c32",
   "metadata": {},
   "outputs": [
    {
     "name": "stdout",
     "output_type": "stream",
     "text": [
      "./best.mp4\n"
     ]
    },
    {
     "data": {
      "text/html": [
       "<video alt=\"test\" autoplay\n",
       "            loop controls style=\"height: 400px;\">\n",
       "            <source src=\"data:video_best/mp4;base64,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\" type=\"video/mp4\" />\n",
       "            </video>"
      ],
      "text/plain": [
       "<IPython.core.display.HTML object>"
      ]
     },
     "metadata": {},
     "output_type": "display_data"
    },
    {
     "name": "stdout",
     "output_type": "stream",
     "text": [
      "finished\n"
     ]
    }
   ],
   "source": [
    "bot.big_training(train_cycles = 100)"
   ]
  },
  {
   "cell_type": "code",
   "execution_count": null,
   "id": "3df5c3bd-10de-4df4-a1bf-f80d23e6328f",
   "metadata": {},
   "outputs": [],
   "source": []
  },
  {
   "cell_type": "code",
   "execution_count": 15,
   "id": "0ef72376-de8c-4e66-89d1-14e86f9660b3",
   "metadata": {},
   "outputs": [],
   "source": [
    "# SAVE the weights using the `checkpoint_path` format\n",
    "# checkpoint_path = \"training_day4_160_160_4/cp.ckpt\"\n",
    "# checkpoint_dir = os.path.dirname(checkpoint_path)\n",
    "# # Save the weights using the `checkpoint_path` format\n",
    "# dqn.model.save_weights(checkpoint_path.format(epoch=0))"
   ]
  },
  {
   "cell_type": "code",
   "execution_count": 9,
   "id": "1fff6fee-9707-4033-a188-5f0c9e7dccb3",
   "metadata": {},
   "outputs": [
    {
     "data": {
      "text/plain": [
       "<tensorflow.python.checkpoint.checkpoint.CheckpointLoadStatus at 0x7fb9306bd5b0>"
      ]
     },
     "execution_count": 9,
     "metadata": {},
     "output_type": "execute_result"
    }
   ],
   "source": [
    "#LOAD WEIGHTS\n",
    "# checkpoint_path = \"training_day3_160_160_4/cp.ckpt\" # size 160x160x4\n",
    "# checkpoint_dir = os.path.dirname(checkpoint_path)\n",
    "\n",
    "# latest = tf.train.latest_checkpoint(checkpoint_dir)\n",
    "# # latest)qq\n",
    "# # Load the previously saved weights\n",
    "# dqn.model.load_weights(latest)\n"
   ]
  }
 ],
 "metadata": {
  "kernelspec": {
   "display_name": "Python (GPU)",
   "language": "python",
   "name": "tf_gpu"
  },
  "language_info": {
   "codemirror_mode": {
    "name": "ipython",
    "version": 3
   },
   "file_extension": ".py",
   "mimetype": "text/x-python",
   "name": "python",
   "nbconvert_exporter": "python",
   "pygments_lexer": "ipython3",
   "version": "3.9.18"
  }
 },
 "nbformat": 4,
 "nbformat_minor": 5
}
