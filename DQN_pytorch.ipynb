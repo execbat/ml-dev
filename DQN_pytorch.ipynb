{
 "cells": [
  {
   "cell_type": "code",
   "execution_count": 1,
   "id": "bd0cd377-1f26-430c-96bd-9adf223653c1",
   "metadata": {},
   "outputs": [],
   "source": [
    "import torch\n",
    "import torch.nn as nn\n",
    "import torch.optim as optim\n",
    "import numpy as np\n",
    "import random\n",
    "import gymnasium as gym\n",
    "from collections import deque"
   ]
  },
  {
   "cell_type": "code",
   "execution_count": 2,
   "id": "5555201e-9cfe-464d-9473-2c7608816675",
   "metadata": {},
   "outputs": [],
   "source": [
    "class DQN(nn.Module):\n",
    "    def __init__(self, n_observations, n_actions):\n",
    "        super().__init__()\n",
    "        self.model = nn.Sequential(\n",
    "            nn.Linear(n_observations, 16),\n",
    "            # nn.Tanh(),\n",
    "            # nn.Linear(256, 256),\n",
    "            nn.Tanh(),\n",
    "            nn.Linear(16, n_actions)\n",
    "        )\n",
    "\n",
    "    def forward(self,x):\n",
    "        return self.model(x)"
   ]
  },
  {
   "cell_type": "code",
   "execution_count": 3,
   "id": "c64f7d93-5733-4113-9d9d-bf9e11183b58",
   "metadata": {},
   "outputs": [],
   "source": [
    "class Memory:\n",
    "    def __init__(self, capacity):\n",
    "        self.q = deque(maxlen = capacity)\n",
    "\n",
    "    def push(self, transition):\n",
    "        self.q.append(transition)\n",
    "\n",
    "    def sample(self, batch_size = 512):\n",
    "        batch = random.sample(self.q, batch_size)\n",
    "        states, actions, rewards, next_states, dones = zip(*batch)\n",
    "        return (\n",
    "            torch.tensor(states, dtype = torch.float32),\n",
    "            torch.tensor(actions),\n",
    "            torch.tensor(rewards, dtype = torch.float32),\n",
    "            torch.tensor(next_states, dtype = torch.float32),\n",
    "            torch.tensor(dones, dtype = torch.float32),\n",
    "        )\n",
    "\n",
    "    def __len__(self):\n",
    "        return len(self.q)"
   ]
  },
  {
   "cell_type": "code",
   "execution_count": 4,
   "id": "da7a65a9-528d-414e-a716-9d433389b5fe",
   "metadata": {},
   "outputs": [],
   "source": [
    "def train(env, memory, policyNN, targetNN, optimizer, epochs = 100, steps_per_epoch = 500, gamma = 0.95, batch_size = 1024):\n",
    "    EPS_START = 1.0\n",
    "    EPS_END = 0.05\n",
    "    EPS_DECAY = 0.999\n",
    "\n",
    "    epsilon = EPS_START\n",
    "    all_rewards = []   \n",
    "    \n",
    "    targetNN.eval()\n",
    "    for epoch in range(epochs):\n",
    "        state, _ = env.reset()\n",
    "\n",
    "        epoch_cum_reward = 0\n",
    "\n",
    "        for step in range(steps_per_epoch):\n",
    "\n",
    "            # choose action\n",
    "            if random.random() < epsilon:\n",
    "                action = env.action_space.sample()\n",
    "\n",
    "            else:\n",
    "                with torch.no_grad():\n",
    "                    state_tensor = torch.tensor(state, dtype = torch.float32).unsqueeze(0)\n",
    "                    action = policyNN(state_tensor).squeeze(0).argmax().item()\n",
    "\n",
    "            next_state, reward, terminated, truncated, _ = env.step(action)\n",
    "            done = terminated or truncated\n",
    "            epoch_cum_reward += reward\n",
    "            \n",
    "            # save transition\n",
    "            memory.push((state, action, reward, next_state, done))\n",
    "            state = next_state\n",
    "\n",
    "            #learn\n",
    "            if len(memory) >= 32:\n",
    "\n",
    "                states, actions, rewards, next_states, dones = memory.sample(batch_size)\n",
    "\n",
    "                q_actions_were_taken = policyNN(states).gather(1, actions.unsqueeze(1)).squeeze(1)\n",
    "                q_next_actions = targetNN(next_states).max(1)[0]\n",
    "\n",
    "                q_expected = rewards + gamma * q_next_actions * (1 - dones)\n",
    "\n",
    "                loss = nn.MSELoss()(q_actions_were_taken, q_expected)\n",
    "\n",
    "                optimizer.zero_grad()\n",
    "                loss.backward()\n",
    "                optimizer.step()\n",
    "\n",
    "            if step % 20 == 0:\n",
    "                targetNN.load_state_dict(policyNN.state_dict())\n",
    "\n",
    "            if done:\n",
    "                # print(step)\n",
    "                break\n",
    "\n",
    "        all_rewards.append(epoch_cum_reward)\n",
    "\n",
    "        if epoch % 1 == 0:\n",
    "            epsilon = max(EPS_END, epsilon * EPS_DECAY)\n",
    "            \n",
    "        if epoch % 100 == 0 and epoch > 0:\n",
    "            print(f\"Epoch {epoch}, Epsilon {epsilon}, mean reward {sum(all_rewards[-10:]) / 10.0}\")\n"
   ]
  },
  {
   "cell_type": "code",
   "execution_count": 5,
   "id": "c0d50c11-1393-4942-a164-06a8423d623a",
   "metadata": {},
   "outputs": [
    {
     "name": "stdout",
     "output_type": "stream",
     "text": [
      "4\n",
      "2\n"
     ]
    }
   ],
   "source": [
    "env = gym.make('CartPole-v1')\n",
    "state, _ = env.reset()\n",
    "\n",
    "n_observations = len(state)\n",
    "n_actions = env.action_space.n\n",
    "\n",
    "print(n_observations)\n",
    "print(n_actions)"
   ]
  },
  {
   "cell_type": "code",
   "execution_count": 7,
   "id": "74e46cc3-69db-46eb-9ba7-c2bebe32fbf9",
   "metadata": {},
   "outputs": [
    {
     "name": "stdout",
     "output_type": "stream",
     "text": [
      "Epoch 100, Epsilon 0.9038873549665959, mean reward 22.6\n",
      "Epoch 200, Epsilon 0.8178301806491574, mean reward 36.9\n",
      "Epoch 300, Epsilon 0.7399663251239436, mean reward 38.3\n",
      "Epoch 400, Epsilon 0.6695157201007336, mean reward 47.4\n",
      "Epoch 500, Epsilon 0.6057725659163237, mean reward 94.3\n",
      "Epoch 600, Epsilon 0.548098260578011, mean reward 88.2\n",
      "Epoch 700, Epsilon 0.4959150020176678, mean reward 97.9\n",
      "Epoch 800, Epsilon 0.44869999946146477, mean reward 89.2\n",
      "Epoch 900, Epsilon 0.4059802359226587, mean reward 136.1\n",
      "Epoch 1000, Epsilon 0.36732772934619257, mean reward 275.0\n",
      "Epoch 1100, Epsilon 0.33235524492954527, mean reward 188.9\n",
      "Epoch 1200, Epsilon 0.3007124156643058, mean reward 103.0\n",
      "Epoch 1300, Epsilon 0.2720822322326576, mean reward 190.5\n",
      "Epoch 1400, Epsilon 0.2461778670932771, mean reward 174.4\n",
      "Epoch 1500, Epsilon 0.22273980093919937, mean reward 307.6\n",
      "Epoch 1600, Epsilon 0.2015332227394583, mean reward 322.3\n",
      "Epoch 1700, Epsilon 0.18234567731717977, mean reward 437.0\n"
     ]
    },
    {
     "ename": "KeyboardInterrupt",
     "evalue": "",
     "output_type": "error",
     "traceback": [
      "\u001b[0;31m---------------------------------------------------------------------------\u001b[0m",
      "\u001b[0;31mKeyboardInterrupt\u001b[0m                         Traceback (most recent call last)",
      "Cell \u001b[0;32mIn[7], line 9\u001b[0m\n\u001b[1;32m      6\u001b[0m targetNN \u001b[38;5;241m=\u001b[39m DQN(n_observations, n_actions)\n\u001b[1;32m      7\u001b[0m optimizer \u001b[38;5;241m=\u001b[39m optim\u001b[38;5;241m.\u001b[39mAdam(policyNN\u001b[38;5;241m.\u001b[39mparameters(), lr \u001b[38;5;241m=\u001b[39m LR)\n\u001b[0;32m----> 9\u001b[0m \u001b[43mtrain\u001b[49m\u001b[43m(\u001b[49m\u001b[43menv\u001b[49m\u001b[43m,\u001b[49m\u001b[43m \u001b[49m\u001b[43mmemory\u001b[49m\u001b[43m,\u001b[49m\u001b[43m \u001b[49m\u001b[43mpolicyNN\u001b[49m\u001b[43m,\u001b[49m\u001b[43m \u001b[49m\u001b[43mtargetNN\u001b[49m\u001b[43m,\u001b[49m\u001b[43m \u001b[49m\u001b[43moptimizer\u001b[49m\u001b[43m,\u001b[49m\u001b[43m \u001b[49m\u001b[43mepochs\u001b[49m\u001b[43m \u001b[49m\u001b[38;5;241;43m=\u001b[39;49m\u001b[43m \u001b[49m\u001b[38;5;241;43m10000\u001b[39;49m\u001b[43m,\u001b[49m\u001b[43m \u001b[49m\u001b[43msteps_per_epoch\u001b[49m\u001b[43m \u001b[49m\u001b[38;5;241;43m=\u001b[39;49m\u001b[43m \u001b[49m\u001b[38;5;241;43m50000\u001b[39;49m\u001b[43m,\u001b[49m\u001b[43m \u001b[49m\u001b[43mgamma\u001b[49m\u001b[43m \u001b[49m\u001b[38;5;241;43m=\u001b[39;49m\u001b[43m \u001b[49m\u001b[38;5;241;43m0.99\u001b[39;49m\u001b[43m,\u001b[49m\u001b[43m \u001b[49m\u001b[43mbatch_size\u001b[49m\u001b[43m \u001b[49m\u001b[38;5;241;43m=\u001b[39;49m\u001b[43m \u001b[49m\u001b[38;5;241;43m16\u001b[39;49m\u001b[43m)\u001b[49m\n",
      "Cell \u001b[0;32mIn[4], line 37\u001b[0m, in \u001b[0;36mtrain\u001b[0;34m(env, memory, policyNN, targetNN, optimizer, epochs, steps_per_epoch, gamma, batch_size)\u001b[0m\n\u001b[1;32m     34\u001b[0m \u001b[38;5;66;03m#learn\u001b[39;00m\n\u001b[1;32m     35\u001b[0m \u001b[38;5;28;01mif\u001b[39;00m \u001b[38;5;28mlen\u001b[39m(memory) \u001b[38;5;241m>\u001b[39m\u001b[38;5;241m=\u001b[39m \u001b[38;5;241m32\u001b[39m:\n\u001b[0;32m---> 37\u001b[0m     states, actions, rewards, next_states, dones \u001b[38;5;241m=\u001b[39m \u001b[43mmemory\u001b[49m\u001b[38;5;241;43m.\u001b[39;49m\u001b[43msample\u001b[49m\u001b[43m(\u001b[49m\u001b[43mbatch_size\u001b[49m\u001b[43m)\u001b[49m\n\u001b[1;32m     39\u001b[0m     q_actions_were_taken \u001b[38;5;241m=\u001b[39m policyNN(states)\u001b[38;5;241m.\u001b[39mgather(\u001b[38;5;241m1\u001b[39m, actions\u001b[38;5;241m.\u001b[39munsqueeze(\u001b[38;5;241m1\u001b[39m))\u001b[38;5;241m.\u001b[39msqueeze(\u001b[38;5;241m1\u001b[39m)\n\u001b[1;32m     40\u001b[0m     q_next_actions \u001b[38;5;241m=\u001b[39m targetNN(next_states)\u001b[38;5;241m.\u001b[39mmax(\u001b[38;5;241m1\u001b[39m)[\u001b[38;5;241m0\u001b[39m]\n",
      "Cell \u001b[0;32mIn[3], line 9\u001b[0m, in \u001b[0;36mMemory.sample\u001b[0;34m(self, batch_size)\u001b[0m\n\u001b[1;32m      8\u001b[0m \u001b[38;5;28;01mdef\u001b[39;00m \u001b[38;5;21msample\u001b[39m(\u001b[38;5;28mself\u001b[39m, batch_size \u001b[38;5;241m=\u001b[39m \u001b[38;5;241m512\u001b[39m):\n\u001b[0;32m----> 9\u001b[0m     batch \u001b[38;5;241m=\u001b[39m \u001b[43mrandom\u001b[49m\u001b[38;5;241;43m.\u001b[39;49m\u001b[43msample\u001b[49m\u001b[43m(\u001b[49m\u001b[38;5;28;43mself\u001b[39;49m\u001b[38;5;241;43m.\u001b[39;49m\u001b[43mq\u001b[49m\u001b[43m,\u001b[49m\u001b[43m \u001b[49m\u001b[43mbatch_size\u001b[49m\u001b[43m)\u001b[49m\n\u001b[1;32m     10\u001b[0m     states, actions, rewards, next_states, dones \u001b[38;5;241m=\u001b[39m \u001b[38;5;28mzip\u001b[39m(\u001b[38;5;241m*\u001b[39mbatch)\n\u001b[1;32m     11\u001b[0m     \u001b[38;5;28;01mreturn\u001b[39;00m (\n\u001b[1;32m     12\u001b[0m         torch\u001b[38;5;241m.\u001b[39mtensor(states, dtype \u001b[38;5;241m=\u001b[39m torch\u001b[38;5;241m.\u001b[39mfloat32),\n\u001b[1;32m     13\u001b[0m         torch\u001b[38;5;241m.\u001b[39mtensor(actions),\n\u001b[0;32m   (...)\u001b[0m\n\u001b[1;32m     16\u001b[0m         torch\u001b[38;5;241m.\u001b[39mtensor(dones, dtype \u001b[38;5;241m=\u001b[39m torch\u001b[38;5;241m.\u001b[39mfloat32),\n\u001b[1;32m     17\u001b[0m     )\n",
      "File \u001b[0;32m~/anaconda3/envs/pytorch/lib/python3.9/random.py:466\u001b[0m, in \u001b[0;36mRandom.sample\u001b[0;34m(self, population, k, counts)\u001b[0m\n\u001b[1;32m    464\u001b[0m selected_add \u001b[38;5;241m=\u001b[39m selected\u001b[38;5;241m.\u001b[39madd\n\u001b[1;32m    465\u001b[0m \u001b[38;5;28;01mfor\u001b[39;00m i \u001b[38;5;129;01min\u001b[39;00m \u001b[38;5;28mrange\u001b[39m(k):\n\u001b[0;32m--> 466\u001b[0m     j \u001b[38;5;241m=\u001b[39m \u001b[43mrandbelow\u001b[49m\u001b[43m(\u001b[49m\u001b[43mn\u001b[49m\u001b[43m)\u001b[49m\n\u001b[1;32m    467\u001b[0m     \u001b[38;5;28;01mwhile\u001b[39;00m j \u001b[38;5;129;01min\u001b[39;00m selected:\n\u001b[1;32m    468\u001b[0m         j \u001b[38;5;241m=\u001b[39m randbelow(n)\n",
      "File \u001b[0;32m~/anaconda3/envs/pytorch/lib/python3.9/random.py:243\u001b[0m, in \u001b[0;36mRandom._randbelow_with_getrandbits\u001b[0;34m(self, n)\u001b[0m\n\u001b[1;32m    241\u001b[0m     \u001b[38;5;28;01mreturn\u001b[39;00m \u001b[38;5;241m0\u001b[39m\n\u001b[1;32m    242\u001b[0m getrandbits \u001b[38;5;241m=\u001b[39m \u001b[38;5;28mself\u001b[39m\u001b[38;5;241m.\u001b[39mgetrandbits\n\u001b[0;32m--> 243\u001b[0m k \u001b[38;5;241m=\u001b[39m \u001b[43mn\u001b[49m\u001b[38;5;241;43m.\u001b[39;49m\u001b[43mbit_length\u001b[49m()  \u001b[38;5;66;03m# don't use (n-1) here because n can be 1\u001b[39;00m\n\u001b[1;32m    244\u001b[0m r \u001b[38;5;241m=\u001b[39m getrandbits(k)  \u001b[38;5;66;03m# 0 <= r < 2**k\u001b[39;00m\n\u001b[1;32m    245\u001b[0m \u001b[38;5;28;01mwhile\u001b[39;00m r \u001b[38;5;241m>\u001b[39m\u001b[38;5;241m=\u001b[39m n:\n",
      "\u001b[0;31mKeyboardInterrupt\u001b[0m: "
     ]
    }
   ],
   "source": [
    "LR = 0.003\n",
    "\n",
    "memory = Memory(100)\n",
    "\n",
    "policyNN = DQN(n_observations, n_actions)\n",
    "targetNN = DQN(n_observations, n_actions)\n",
    "optimizer = optim.Adam(policyNN.parameters(), lr = LR)\n",
    "\n",
    "train(env, memory, policyNN, targetNN, optimizer, epochs = 10000, steps_per_epoch = 50000, gamma = 0.99, batch_size = 16)"
   ]
  },
  {
   "cell_type": "code",
   "execution_count": null,
   "id": "48ddda07-5a4a-4a28-b9fb-4c393e432df6",
   "metadata": {},
   "outputs": [],
   "source": []
  },
  {
   "cell_type": "code",
   "execution_count": null,
   "id": "8b1678dd-38ad-47e9-9106-88fc9dc197a0",
   "metadata": {},
   "outputs": [],
   "source": []
  }
 ],
 "metadata": {
  "kernelspec": {
   "display_name": "pytorch_Python3.9.18",
   "language": "python",
   "name": "pytorch_gpu"
  },
  "language_info": {
   "codemirror_mode": {
    "name": "ipython",
    "version": 3
   },
   "file_extension": ".py",
   "mimetype": "text/x-python",
   "name": "python",
   "nbconvert_exporter": "python",
   "pygments_lexer": "ipython3",
   "version": "3.9.18"
  }
 },
 "nbformat": 4,
 "nbformat_minor": 5
}
